{
 "cells": [
  {
   "cell_type": "markdown",
   "metadata": {},
   "source": [
    "# Converting `.mat` to Usable data structures"
   ]
  },
  {
   "cell_type": "markdown",
   "metadata": {},
   "source": [
    "## Message from Grant\n",
    "\n",
    "Here are the .mat files with everything you're looking for. We split them by left and right leg for synergy extractions, so synergy_nmfR and synergy_nmfL will have all the data you want. emgOrig inside of the structure is the input EMG data that was used for each subject. Where C and W are the ground truth ouputs of nnmf. These will go up to the number of muscles - 1, so each entry in the C and W columns will represent a different number of synergies extracted. emgRecon is the reconstructed EMG, which is just W*C. These are all treadmill-preferred trials, I have different trials, but treadmill walking is an easy spot to start with. Let me know if you have any questions about the data!"
   ]
  },
  {
   "cell_type": "markdown",
   "metadata": {},
   "source": [
    "## Interacting with the `.mat` files\n",
    "\n",
    "Each mat needs to be loaded using `scipy.io.loadmat(<fp>)`. This will return the data as a dictionary, with each entry containing a series of numpy arrays.\n",
    " \n",
    "The only entries that we are concerned with are the emgData and nmf reconstructions on the right and the left leg, contained within `mat[\"synergy_nmfL\"]` and `mat[\"synergy_nmfR\"]`, respectively.\n",
    "\n",
    "Each of these contains a series of reconstructions, using `W` (synergies) and `C` time points, in ascending numbers of synergies from 2 to `num_muscles - 1`.\n",
    "\n",
    "\n",
    "If `nmfL = scipy.io.loadmat(<fp>)[\"synergy_nmfL\"]`, then collections of arrays for different numbers of synergies can be accessed via `nmfL['C'][0,{0,1,2,3,...,n-2}]`.\n",
    "\n",
    "And so, if `W_n` is `W` for a specific number of synergies, we could have `W_3 = nmfL['W'][0,1]`, and then to determine the emgReconstruction, we would say:\n",
    "\n",
    "$$\n",
    "W_3 C_3 = A\n",
    "$$"
   ]
  },
  {
   "cell_type": "code",
   "execution_count": 128,
   "metadata": {},
   "outputs": [],
   "source": [
    "import scipy.io \n",
    "import pandas as pd\n",
    "import numpy as np\n"
   ]
  },
  {
   "cell_type": "code",
   "execution_count": 19,
   "metadata": {},
   "outputs": [],
   "source": [
    "data_path = '../examples/YA04_synergiesFromTMPref_25-Jan-2024.mat'"
   ]
  },
  {
   "cell_type": "code",
   "execution_count": 42,
   "metadata": {},
   "outputs": [],
   "source": [
    "mat = scipy.io.loadmat(data_path)"
   ]
  },
  {
   "cell_type": "code",
   "execution_count": 65,
   "metadata": {},
   "outputs": [],
   "source": [
    "nmfL = mat[\"synergy_nmfL\"]"
   ]
  },
  {
   "cell_type": "code",
   "execution_count": 127,
   "metadata": {},
   "outputs": [
    {
     "data": {
      "text/plain": [
       "(8, 7)"
      ]
     },
     "execution_count": 127,
     "metadata": {},
     "output_type": "execute_result"
    }
   ],
   "source": [
    "nmfL['W'][0,6].shape"
   ]
  },
  {
   "cell_type": "code",
   "execution_count": null,
   "metadata": {},
   "outputs": [],
   "source": []
  }
 ],
 "metadata": {
  "kernelspec": {
   "display_name": "Python 3",
   "language": "python",
   "name": "python3"
  },
  "language_info": {
   "codemirror_mode": {
    "name": "ipython",
    "version": 3
   },
   "file_extension": ".py",
   "mimetype": "text/x-python",
   "name": "python",
   "nbconvert_exporter": "python",
   "pygments_lexer": "ipython3",
   "version": "3.12.2"
  }
 },
 "nbformat": 4,
 "nbformat_minor": 2
}
